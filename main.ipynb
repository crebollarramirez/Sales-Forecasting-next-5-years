{
 "cells": [
  {
   "attachments": {},
   "cell_type": "markdown",
   "metadata": {},
   "source": [
    "Preparing our input data"
   ]
  },
  {
   "cell_type": "code",
   "execution_count": null,
   "metadata": {},
   "outputs": [],
   "source": [
    "from os.path import exists \n",
    "import pandas as pd\n",
    "\n",
    "# Getting the data set in the source file\n",
    "df_path = \"train.csv\"\n",
    "df = pd.read_csv(df_path)\n",
    "\n",
    "df = df.sample(n = 19000, random_state=0)\n",
    "\n",
    "df[\"store\"] = df[\"store\"].astype(str)\n",
    "df[\"item\"] = df[\"item\"].astype(str)\n",
    "\n",
    "df[\"date\"] = pd.to_datetime(df[\"date\"])\n",
    "\n",
    "df.sort_values(\"date\", inplace=True)\n",
    "df.reset_index(inplace=True, drop=True)\n",
    "df.head()"
   ]
  },
  {
   "attachments": {},
   "cell_type": "markdown",
   "metadata": {},
   "source": [
    "Traning"
   ]
  },
  {
   "cell_type": "code",
   "execution_count": null,
   "metadata": {},
   "outputs": [],
   "source": [
    "train = df[df[\"date\"] < \"2017-01-01\"]\n",
    "test = df[df[\"date\"] >= \"2017-01-01\"]\n",
    "\n",
    "train_features = train.drop(columns=[\"sales\"])\n",
    "train_target = train[\"sales\"]\n",
    "test_features = test.drop(columns=[\"sales\"])\n",
    "test_target = test[\"sales\"]"
   ]
  },
  {
   "cell_type": "code",
   "execution_count": null,
   "metadata": {},
   "outputs": [],
   "source": [
    "from upgini import FeaturesEnricher, SearchKey\n",
    "from upgini.metadata import CVType\n",
    "\n",
    "enricher = FeaturesEnricher(search_keys= {\"date\": SearchKey.DATE}, cv = CVType.time_series)\n",
    "enricher.fit(train_features, train_target, eval_set=[(test_features, test_target)])"
   ]
  },
  {
   "cell_type": "code",
   "execution_count": null,
   "metadata": {},
   "outputs": [],
   "source": [
    "from catboost import CatBoostRegressor\n",
    "from catboost.utils import eval_metric\n",
    "\n",
    "model = CatBoostRegressor(verbose=False, allow_writing_files=False, random_state=0)\n",
    "\n",
    "enricher.calculate_metrics(train_features, train_target, eval_set=[(test_features, test_target)],\n",
    "                           estimator = model, scoring = \"mean_absolute_percentage_error\")"
   ]
  },
  {
   "cell_type": "code",
   "execution_count": null,
   "metadata": {},
   "outputs": [],
   "source": [
    "enriched_train_features = enricher.transform(train_features, keep_input=True)\n",
    "enriched_test_features = enricher.transform(test_features, keep_input=True)\n",
    "enriched_train_features.head()"
   ]
  },
  {
   "cell_type": "code",
   "execution_count": null,
   "metadata": {},
   "outputs": [],
   "source": [
    "model.fit(train_features, train_target)\n",
    "preds = model.predict(test_features)\n",
    "eval_metric(test_target.values, preds, \"SMAPE\")"
   ]
  },
  {
   "cell_type": "code",
   "execution_count": null,
   "metadata": {},
   "outputs": [],
   "source": [
    "model.fit(enriched_train_features, train_target)\n",
    "enriched_preds = model.predict(enriched_test_features)\n",
    "eval_metric(test_target.values, enriched_preds, \"SMAPE\")"
   ]
  }
 ],
 "metadata": {
  "kernelspec": {
   "display_name": "Sales-Forecasting",
   "language": "python",
   "name": "python3"
  },
  "language_info": {
   "codemirror_mode": {
    "name": "ipython",
    "version": 3
   },
   "file_extension": ".py",
   "mimetype": "text/x-python",
   "name": "python",
   "nbconvert_exporter": "python",
   "pygments_lexer": "ipython3",
   "version": "3.10.10"
  },
  "orig_nbformat": 4
 },
 "nbformat": 4,
 "nbformat_minor": 2
}
